{
 "cells": [
  {
   "cell_type": "markdown",
   "metadata": {},
   "source": [
    "[![Open In Colab](https://colab.research.google.com/assets/colab-badge.svg)](https://colab.research.google.com/github/zealptl/CSC-44800-Projects/blob/master/final_project/final_project.ipynb)"
   ]
  },
  {
   "cell_type": "markdown",
   "metadata": {},
   "source": [
    "# CSC 448 - Final Project\n",
    "\n",
    "## Asbtract\n",
    "\n",
    "This notebook will explore two datasets. \n",
    "\n",
    "The first dataset consists of wildfire data in US between 1992 - 2015. Last year, we had few of the biggest wildfires in US history and it took months to contain them. Using this dataset I was to see if by looking at past data, we can predict how long it will take to contain the fire given the size of the fire. So, I will run a linear regression to do so.\n",
    "\n",
    "The second dataset consists of employee information of some company with information like their age, salary, awards, certification, etc. Using this data, I want to see if an employee can be classified into one of classes, satisfied or unsatisfied."
   ]
  },
  {
   "cell_type": "markdown",
   "metadata": {},
   "source": [
    "### Imports & stylistic setup"
   ]
  },
  {
   "cell_type": "code",
   "execution_count": 2,
   "metadata": {},
   "outputs": [],
   "source": [
    "import sqlite3 as sql\n",
    "from sqlite3 import Error\n",
    "import pandas as pd\n",
    "import matplotlib.pyplot as plt\n",
    "import numpy as np\n",
    "\n",
    "from sklearn.model_selection import train_test_split\n",
    "from sklearn import linear_model\n",
    "from sklearn.metrics import mean_squared_error, r2_score\n",
    "from sklearn.neural_network import MLPClassifier\n",
    "from sklearn import preprocessing\n",
    "from sklearn.pipeline import make_pipeline\n",
    "from sklearn.ensemble import RandomForestClassifier"
   ]
  },
  {
   "cell_type": "code",
   "execution_count": 3,
   "metadata": {
    "scrolled": true
   },
   "outputs": [
    {
     "data": {
      "text/html": [
       "<style type='text/css'>\n",
       "    table.dataframe td, table.dataframe th {\n",
       "        border-style: solid;\n",
       "        border-color: #84a9ac;\n",
       "        border-width: thin;\n",
       "        width: 150px;\n",
       "    }\n",
       "</style>\n"
      ],
      "text/plain": [
       "<IPython.core.display.HTML object>"
      ]
     },
     "metadata": {},
     "output_type": "display_data"
    }
   ],
   "source": [
    "%%HTML\n",
    "<style type='text/css'>\n",
    "    table.dataframe td, table.dataframe th {\n",
    "        border-style: solid;\n",
    "        border-color: #84a9ac;\n",
    "        border-width: thin;\n",
    "        width: 150px;\n",
    "    }\n",
    "</style>"
   ]
  },
  {
   "cell_type": "markdown",
   "metadata": {},
   "source": [
    "## Linear Regression\n",
    "\n",
    "The wildfire dataset is a sqlite database that containes a Fires tables with several columns representing different information about a given fire. For the purpose of this regression I am only selecting the follwing columns\n",
    "\n",
    "* **FIRE_SIZE:** Estimate of acres within the final perimeter of the fire.\n",
    "* **STATE:** Two-letter alphabetic code for the state in which the fire originated \n",
    "* **DISCOVERY_DATE:** Date on which the fire was dicsovered or confirmed to exist\n",
    "* **CONT_DATE:** Date on which the fire was declared contained or otherwise controlled\n",
    "* **FIRE_YEAR:** Calendar yar in which the fire was discovered or confirmed to exist\n",
    "\n",
    "We can subtract the **DISCOVERAY_DATE** from **CONT_DATE** to get **Elapsed_Days** and now we can use this and **Fire_Size** to run our regression."
   ]
  },
  {
   "cell_type": "markdown",
   "metadata": {},
   "source": [
    "### Queries to read data\n",
    "\n",
    "There are four different queries I wrote to get the data from the sqlite database.\n",
    "\n",
    "1. Selects all the fires from 1992 - 2015 in a given state\n",
    "2. Selects all the fires in US in a given year\n",
    "3. Selects all the fires in given year and state.\n",
    "4. Selects all the fires from 1992 - 2015"
   ]
  },
  {
   "cell_type": "code",
   "execution_count": 5,
   "metadata": {
    "scrolled": false
   },
   "outputs": [],
   "source": [
    "# create a database connection to a SQLite database \n",
    "def create_connection(db_file):\n",
    "    conn = None\n",
    "    try:\n",
    "        conn = sql.connect(db_file)\n",
    "        return conn\n",
    "    except Error as e:\n",
    "        print(e)\n",
    "        \n",
    "def select_fires_by_state(conn, state):\n",
    "    query = \"SELECT FIRE_SIZE As Fire_Size, \\\n",
    "                                 STATE As State, \\\n",
    "                                 datetime(DISCOVERY_DATE) AS Discovery_Date, \\\n",
    "                                 datetime(CONT_DATE) AS Contained_Date, \\\n",
    "                                 (CONT_DATE - DISCOVERY_DATE) AS Elapsed_Days \\\n",
    "                                 from Fires \\\n",
    "                                 WHERE STATE = '{}' \\\n",
    "                                 ORDER BY Fire_Size;\".format(state)\n",
    "    \n",
    "    df = pd.read_sql_query(query, conn)                     \n",
    "    return df\n",
    "\n",
    "def select_fires_by_year(conn, year):\n",
    "    query = \"SELECT FIRE_SIZE As Fire_Size, \\\n",
    "                                 STATE As State, \\\n",
    "                                 datetime(DISCOVERY_DATE) AS Discovery_Date, \\\n",
    "                                 datetime(CONT_DATE) AS Contained_Date, \\\n",
    "                                 (CONT_DATE - DISCOVERY_DATE) AS Elapsed_Days \\\n",
    "                                 from Fires \\\n",
    "                                 WHERE FIRE_YEAR = {} \\\n",
    "                                 ORDER BY Fire_Size;\".format(year)\n",
    "    \n",
    "    df = pd.read_sql_query(query, conn)                   \n",
    "    return df\n",
    "\n",
    "def select_fires_by_state_year(conn, state, year):\n",
    "    query = \"SELECT FIRE_SIZE As Fire_Size, \\\n",
    "                                 STATE As State, \\\n",
    "                                 datetime(DISCOVERY_DATE) AS Discovery_Date, \\\n",
    "                                 datetime(CONT_DATE) AS Contained_Date, \\\n",
    "                                 (CONT_DATE - DISCOVERY_DATE) AS Elapsed_Days \\\n",
    "                                 from Fires \\\n",
    "                                 WHERE  STATE = '{}' AND FIRE_YEAR = {} \\\n",
    "                                 ORDER BY Fire_Size;\".format(state, year)\n",
    "    \n",
    "    df = pd.read_sql_query(query, conn)                   \n",
    "    return df\n",
    "\n",
    "def select_all_fires(conn):\n",
    "    query = \"SELECT FIRE_SIZE As Fire_Size, \\\n",
    "                                 STATE As State, \\\n",
    "                                 datetime(DISCOVERY_DATE) AS Discovery_Date, \\\n",
    "                                 datetime(CONT_DATE) AS Contained_Date, \\\n",
    "                                 (CONT_DATE - DISCOVERY_DATE) AS Elapsed_Days \\\n",
    "                                 from Fires \\\n",
    "                                 ORDER BY Fire_Size;\"\n",
    "    \n",
    "    df = pd.read_sql_query(query, conn)                   \n",
    "    return df\n",
    "\n",
    "connection = create_connection(\"us_fires.sqlite\")"
   ]
  },
  {
   "cell_type": "markdown",
   "metadata": {},
   "source": [
    "### Clean data\n",
    "\n",
    "For the purpose of this regression I will be selecting all the fires between 1992 - 2015. There are some clear outliers in the data. For example, there are fires which less that 1 acre in size but they look more than 3000 days to contain. We can see that this must be a mistake in data entry. Therefore, I am dropping all the fires which were less than 1 acre in size and took more than 100 days to contain. Furthermore, there are also some fires where there is no record of the date of they were contained. So, I am dropping those rows using the *dropna* function of pandas."
   ]
  },
  {
   "cell_type": "code",
   "execution_count": 43,
   "metadata": {
    "scrolled": false
   },
   "outputs": [
    {
     "data": {
      "text/html": [
       "<div>\n",
       "<style scoped>\n",
       "    .dataframe tbody tr th:only-of-type {\n",
       "        vertical-align: middle;\n",
       "    }\n",
       "\n",
       "    .dataframe tbody tr th {\n",
       "        vertical-align: top;\n",
       "    }\n",
       "\n",
       "    .dataframe thead th {\n",
       "        text-align: right;\n",
       "    }\n",
       "</style>\n",
       "<table border=\"1\" class=\"dataframe\">\n",
       "  <thead>\n",
       "    <tr style=\"text-align: right;\">\n",
       "      <th></th>\n",
       "      <th>Fire_Size</th>\n",
       "      <th>State</th>\n",
       "      <th>Discovery_Date</th>\n",
       "      <th>Contained_Date</th>\n",
       "      <th>Elapsed_Days</th>\n",
       "    </tr>\n",
       "  </thead>\n",
       "  <tbody>\n",
       "    <tr>\n",
       "      <th>8</th>\n",
       "      <td>0.0001</td>\n",
       "      <td>PA</td>\n",
       "      <td>2002-07-23 00:00:00</td>\n",
       "      <td>2002-07-23 00:00:00</td>\n",
       "      <td>0.0</td>\n",
       "    </tr>\n",
       "    <tr>\n",
       "      <th>9</th>\n",
       "      <td>0.0001</td>\n",
       "      <td>PA</td>\n",
       "      <td>2002-07-24 00:00:00</td>\n",
       "      <td>2002-07-24 00:00:00</td>\n",
       "      <td>0.0</td>\n",
       "    </tr>\n",
       "    <tr>\n",
       "      <th>10</th>\n",
       "      <td>0.0001</td>\n",
       "      <td>PA</td>\n",
       "      <td>2003-04-13 00:00:00</td>\n",
       "      <td>2003-04-13 00:00:00</td>\n",
       "      <td>0.0</td>\n",
       "    </tr>\n",
       "    <tr>\n",
       "      <th>11</th>\n",
       "      <td>0.0001</td>\n",
       "      <td>PA</td>\n",
       "      <td>2003-04-14 00:00:00</td>\n",
       "      <td>2003-04-14 00:00:00</td>\n",
       "      <td>0.0</td>\n",
       "    </tr>\n",
       "    <tr>\n",
       "      <th>12</th>\n",
       "      <td>0.0001</td>\n",
       "      <td>NE</td>\n",
       "      <td>2014-03-13 00:00:00</td>\n",
       "      <td>2014-03-13 00:00:00</td>\n",
       "      <td>0.0</td>\n",
       "    </tr>\n",
       "    <tr>\n",
       "      <th>...</th>\n",
       "      <td>...</td>\n",
       "      <td>...</td>\n",
       "      <td>...</td>\n",
       "      <td>...</td>\n",
       "      <td>...</td>\n",
       "    </tr>\n",
       "    <tr>\n",
       "      <th>1880460</th>\n",
       "      <td>517078.0000</td>\n",
       "      <td>AK</td>\n",
       "      <td>2009-06-21 00:00:00</td>\n",
       "      <td>2009-09-11 00:00:00</td>\n",
       "      <td>82.0</td>\n",
       "    </tr>\n",
       "    <tr>\n",
       "      <th>1880461</th>\n",
       "      <td>537627.0000</td>\n",
       "      <td>AK</td>\n",
       "      <td>2004-06-13 00:00:00</td>\n",
       "      <td>2004-09-30 00:00:00</td>\n",
       "      <td>109.0</td>\n",
       "    </tr>\n",
       "    <tr>\n",
       "      <th>1880462</th>\n",
       "      <td>538049.0000</td>\n",
       "      <td>AZ</td>\n",
       "      <td>2011-05-29 00:00:00</td>\n",
       "      <td>2011-07-12 00:00:00</td>\n",
       "      <td>44.0</td>\n",
       "    </tr>\n",
       "    <tr>\n",
       "      <th>1880463</th>\n",
       "      <td>558198.3000</td>\n",
       "      <td>OR</td>\n",
       "      <td>2012-07-08 00:00:00</td>\n",
       "      <td>2012-07-30 00:00:00</td>\n",
       "      <td>22.0</td>\n",
       "    </tr>\n",
       "    <tr>\n",
       "      <th>1880464</th>\n",
       "      <td>606945.0000</td>\n",
       "      <td>AK</td>\n",
       "      <td>1997-06-25 00:00:00</td>\n",
       "      <td>1997-09-09 00:00:00</td>\n",
       "      <td>76.0</td>\n",
       "    </tr>\n",
       "  </tbody>\n",
       "</table>\n",
       "<p>987823 rows × 5 columns</p>\n",
       "</div>"
      ],
      "text/plain": [
       "           Fire_Size State       Discovery_Date       Contained_Date  \\\n",
       "8             0.0001    PA  2002-07-23 00:00:00  2002-07-23 00:00:00   \n",
       "9             0.0001    PA  2002-07-24 00:00:00  2002-07-24 00:00:00   \n",
       "10            0.0001    PA  2003-04-13 00:00:00  2003-04-13 00:00:00   \n",
       "11            0.0001    PA  2003-04-14 00:00:00  2003-04-14 00:00:00   \n",
       "12            0.0001    NE  2014-03-13 00:00:00  2014-03-13 00:00:00   \n",
       "...              ...   ...                  ...                  ...   \n",
       "1880460  517078.0000    AK  2009-06-21 00:00:00  2009-09-11 00:00:00   \n",
       "1880461  537627.0000    AK  2004-06-13 00:00:00  2004-09-30 00:00:00   \n",
       "1880462  538049.0000    AZ  2011-05-29 00:00:00  2011-07-12 00:00:00   \n",
       "1880463  558198.3000    OR  2012-07-08 00:00:00  2012-07-30 00:00:00   \n",
       "1880464  606945.0000    AK  1997-06-25 00:00:00  1997-09-09 00:00:00   \n",
       "\n",
       "         Elapsed_Days  \n",
       "8                 0.0  \n",
       "9                 0.0  \n",
       "10                0.0  \n",
       "11                0.0  \n",
       "12                0.0  \n",
       "...               ...  \n",
       "1880460          82.0  \n",
       "1880461         109.0  \n",
       "1880462          44.0  \n",
       "1880463          22.0  \n",
       "1880464          76.0  \n",
       "\n",
       "[987823 rows x 5 columns]"
      ]
     },
     "metadata": {},
     "output_type": "display_data"
    },
    {
     "data": {
      "text/plain": [
       "<matplotlib.axes._subplots.AxesSubplot at 0x7fc921c23a60>"
      ]
     },
     "execution_count": 43,
     "metadata": {},
     "output_type": "execute_result"
    },
    {
     "data": {
      "image/png": "[encoded data removed]",
      "text/plain": [
       "<Figure size 432x288 with 1 Axes>"
      ]
     },
     "metadata": {
      "needs_background": "light"
     },
     "output_type": "display_data"
    }
   ],
   "source": [
    "states = [ 'AL', 'AK', 'AS', 'AZ', 'AR', 'CA', 'CO', 'CT', 'DE', 'DC', 'FM', 'FL', 'GA', 'GU', 'HI', 'ID', 'IL', 'IN', 'IA', 'KS', 'KY', 'LA', 'ME', 'MH', 'MD', 'MA', 'MI', 'MN', 'MS', 'MO', 'MT', 'NE', 'NV', 'NH', 'NJ', 'NM', 'NY', 'NC', 'ND', 'MP', 'OH', 'OK', 'OR', 'PW', 'PA', 'PR', 'RI', 'SC', 'SD', 'TN', 'TX', 'UT', 'VT', 'VI', 'VA', 'WA', 'WV', 'WI', 'WY' ];\n",
    "    \n",
    "df = select_all_fires(connection)\n",
    "df = df.dropna(how='any', axis=0)\n",
    "outliers = df[ (df['Elapsed_Days'] > 100) & (df['Fire_Size'] < 1)].index\n",
    "df.drop(outliers, inplace=True)\n",
    "\n",
    "display(df)\n",
    "df.plot(x='Fire_Size', y='Elapsed_Days', style='o', title='All US Fires 1992 - 2015')"
   ]
  },
  {
   "cell_type": "markdown",
   "metadata": {},
   "source": [
    "### Split Data\n",
    "Here, we can use *train_test_split* from sklearn to split our data into four arrays.\n",
    "* *X_train* is an array of Fire_Size that will be used to train the regression model\n",
    "* *y_train* is an array of Elapsed_Days that will be used to train the regression model\n",
    "* *X_test* is an array of Fire_Size that will be used to predict the *y_pred* which is the result of *X_test* applied to the trained model"
   ]
  },
  {
   "cell_type": "code",
   "execution_count": 54,
   "metadata": {},
   "outputs": [],
   "source": [
    "X_train, X_test, y_train, y_test = train_test_split(df[['Fire_Size']], df[['Elapsed_Days']], test_size=0.20, shuffle=True)"
   ]
  },
  {
   "cell_type": "markdown",
   "metadata": {},
   "source": [
    "### Training Regression Model\n",
    "\n",
    "Here, we use *LinearRegression* from sklearn to train our regression model. First, we create an object of *linear_model* class and then we can use the *fit* function. The *fit* function takes *X_train* and *y_train* as its arguments so builds a regression model"
   ]
  },
  {
   "cell_type": "code",
   "execution_count": 47,
   "metadata": {},
   "outputs": [
    {
     "data": {
      "text/plain": [
       "LinearRegression()"
      ]
     },
     "execution_count": 47,
     "metadata": {},
     "output_type": "execute_result"
    }
   ],
   "source": [
    "regr = linear_model.LinearRegression()\n",
    "regr.fit(X_train, y_train)"
   ]
  },
  {
   "cell_type": "markdown",
   "metadata": {},
   "source": [
    "### Testing Regression Model & Plotting Results\n",
    "\n",
    "Now that we have trained our model its times to test it. To do so, we can use the *predict* function which takes in *X_test* as an argument and returns an array that consists of estimated time to contain fire calculated using the hypothesis function.\n",
    "\n",
    "Once we have gotten our *y_pred* we can plot the results using matplotlib. First we plot our test data points (in black). Then we can plot our predictions using the plot function where we pass in *X_test* and the corresponding y values that we predicted using our model (in blue)."
   ]
  },
  {
   "cell_type": "code",
   "execution_count": 58,
   "metadata": {},
   "outputs": [
    {
     "name": "stdout",
     "output_type": "stream",
     "text": [
      "Coefficients:  [[0.00044173]]\n",
      "Mean squared error: 44.52158825013393\n",
      "Coefficient of determination: 0.05401554435892175\n",
      "Score gotten from cross-validation: 0.05401554435892175\n"
     ]
    },
    {
     "data": {
      "image/png": "[encoded data removed]",
      "text/plain": [
       "<Figure size 432x288 with 1 Axes>"
      ]
     },
     "metadata": {},
     "output_type": "display_data"
    }
   ],
   "source": [
    "y_pred = regr.predict(X_test)\n",
    "\n",
    "print('Coefficients: ', regr.coef_)\n",
    "print('Mean squared error: {}'.format(mean_squared_error(y_test, y_pred)))\n",
    "print('Coefficient of determination: {}'.format(r2_score(y_test, y_pred)))\n",
    "print(\"Score gotten from cross-validation:\",regr.score(X_test,y_test))\n",
    "\n",
    "plt.scatter(X_test, y_test, color='black')\n",
    "plt.plot(X_test, y_pred, color='blue', linewidth=3)\n",
    "\n",
    "plt.xticks(())\n",
    "plt.yticks(())\n",
    "\n",
    "plt.show()"
   ]
  },
  {
   "cell_type": "markdown",
   "metadata": {},
   "source": [
    "### Regression conclusion\n",
    "\n",
    "The mean squared error of this model is 44.52. This is way higher than I expected. The score from cross validation is 0.05 which is a very low score. The reason why I think this because there are a lot of data points where the fire takes less than 0 days to contain and it skews the rest of the data. Perhaps in future instead of running regression on elapsed_days we can find out exactly how many hours it took to contain the fire the increase our accuracy."
   ]
  },
  {
   "cell_type": "markdown",
   "metadata": {},
   "source": [
    "## Classification \n",
    "\n",
    "The employee dataset is a csv file. For the purpose of this classification I want to see if given the following information I can predicit whether an employee is satisfied or unsatisfied with their jobs.\n",
    "\n",
    "* **age:** Age of the employee.\n",
    "* **job_level:** The job level of the employee. \n",
    "* **rating:** The previous year rating of the employee.\n",
    "* **awards:** Numbers of awards recieved by an employee.\n",
    "* **certifcation:** Is the employee certified? 1 if yes, 0 otherwise.\n",
    "* **salary:** Net salary of the employee.\n",
    "* **satisfied:** Is the employee satisfied? 1 if yes, 0 otherwise."
   ]
  },
  {
   "cell_type": "markdown",
   "metadata": {},
   "source": [
    "### Read data from CSV\n",
    "\n",
    "We can use *read_csv* function from pandas to read data from CSV file into a pandas dataframe. Here, I am using an array *col_list* to only reads those columns in the array"
   ]
  },
  {
   "cell_type": "code",
   "execution_count": 133,
   "metadata": {},
   "outputs": [
    {
     "data": {
      "text/html": [
       "<div>\n",
       "<style scoped>\n",
       "    .dataframe tbody tr th:only-of-type {\n",
       "        vertical-align: middle;\n",
       "    }\n",
       "\n",
       "    .dataframe tbody tr th {\n",
       "        vertical-align: top;\n",
       "    }\n",
       "\n",
       "    .dataframe thead th {\n",
       "        text-align: right;\n",
       "    }\n",
       "</style>\n",
       "<table border=\"1\" class=\"dataframe\">\n",
       "  <thead>\n",
       "    <tr style=\"text-align: right;\">\n",
       "      <th></th>\n",
       "      <th>age</th>\n",
       "      <th>job_level</th>\n",
       "      <th>rating</th>\n",
       "      <th>awards</th>\n",
       "      <th>certifications</th>\n",
       "      <th>salary</th>\n",
       "      <th>satisfied</th>\n",
       "    </tr>\n",
       "  </thead>\n",
       "  <tbody>\n",
       "    <tr>\n",
       "      <th>0</th>\n",
       "      <td>28</td>\n",
       "      <td>5</td>\n",
       "      <td>2</td>\n",
       "      <td>1</td>\n",
       "      <td>0</td>\n",
       "      <td>86750</td>\n",
       "      <td>1</td>\n",
       "    </tr>\n",
       "    <tr>\n",
       "      <th>1</th>\n",
       "      <td>50</td>\n",
       "      <td>3</td>\n",
       "      <td>5</td>\n",
       "      <td>2</td>\n",
       "      <td>1</td>\n",
       "      <td>42419</td>\n",
       "      <td>0</td>\n",
       "    </tr>\n",
       "    <tr>\n",
       "      <th>2</th>\n",
       "      <td>43</td>\n",
       "      <td>4</td>\n",
       "      <td>1</td>\n",
       "      <td>2</td>\n",
       "      <td>0</td>\n",
       "      <td>65715</td>\n",
       "      <td>0</td>\n",
       "    </tr>\n",
       "    <tr>\n",
       "      <th>3</th>\n",
       "      <td>44</td>\n",
       "      <td>2</td>\n",
       "      <td>3</td>\n",
       "      <td>0</td>\n",
       "      <td>0</td>\n",
       "      <td>29805</td>\n",
       "      <td>1</td>\n",
       "    </tr>\n",
       "    <tr>\n",
       "      <th>4</th>\n",
       "      <td>33</td>\n",
       "      <td>2</td>\n",
       "      <td>1</td>\n",
       "      <td>5</td>\n",
       "      <td>0</td>\n",
       "      <td>29805</td>\n",
       "      <td>1</td>\n",
       "    </tr>\n",
       "    <tr>\n",
       "      <th>...</th>\n",
       "      <td>...</td>\n",
       "      <td>...</td>\n",
       "      <td>...</td>\n",
       "      <td>...</td>\n",
       "      <td>...</td>\n",
       "      <td>...</td>\n",
       "      <td>...</td>\n",
       "    </tr>\n",
       "    <tr>\n",
       "      <th>495</th>\n",
       "      <td>49</td>\n",
       "      <td>2</td>\n",
       "      <td>5</td>\n",
       "      <td>6</td>\n",
       "      <td>0</td>\n",
       "      <td>29805</td>\n",
       "      <td>1</td>\n",
       "    </tr>\n",
       "    <tr>\n",
       "      <th>496</th>\n",
       "      <td>24</td>\n",
       "      <td>2</td>\n",
       "      <td>4</td>\n",
       "      <td>2</td>\n",
       "      <td>0</td>\n",
       "      <td>29805</td>\n",
       "      <td>0</td>\n",
       "    </tr>\n",
       "    <tr>\n",
       "      <th>497</th>\n",
       "      <td>34</td>\n",
       "      <td>1</td>\n",
       "      <td>3</td>\n",
       "      <td>2</td>\n",
       "      <td>0</td>\n",
       "      <td>24076</td>\n",
       "      <td>1</td>\n",
       "    </tr>\n",
       "    <tr>\n",
       "      <th>498</th>\n",
       "      <td>26</td>\n",
       "      <td>2</td>\n",
       "      <td>1</td>\n",
       "      <td>1</td>\n",
       "      <td>1</td>\n",
       "      <td>29805</td>\n",
       "      <td>0</td>\n",
       "    </tr>\n",
       "    <tr>\n",
       "      <th>499</th>\n",
       "      <td>26</td>\n",
       "      <td>3</td>\n",
       "      <td>4</td>\n",
       "      <td>3</td>\n",
       "      <td>0</td>\n",
       "      <td>42419</td>\n",
       "      <td>0</td>\n",
       "    </tr>\n",
       "  </tbody>\n",
       "</table>\n",
       "<p>500 rows × 7 columns</p>\n",
       "</div>"
      ],
      "text/plain": [
       "     age  job_level  rating  awards  certifications  salary  satisfied\n",
       "0     28          5       2       1               0   86750          1\n",
       "1     50          3       5       2               1   42419          0\n",
       "2     43          4       1       2               0   65715          0\n",
       "3     44          2       3       0               0   29805          1\n",
       "4     33          2       1       5               0   29805          1\n",
       "..   ...        ...     ...     ...             ...     ...        ...\n",
       "495   49          2       5       6               0   29805          1\n",
       "496   24          2       4       2               0   29805          0\n",
       "497   34          1       3       2               0   24076          1\n",
       "498   26          2       1       1               1   29805          0\n",
       "499   26          3       4       3               0   42419          0\n",
       "\n",
       "[500 rows x 7 columns]"
      ]
     },
     "metadata": {},
     "output_type": "display_data"
    }
   ],
   "source": [
    "col_list = ['age', 'job_level', 'rating', 'awards', 'certifications', 'salary', 'satisfied']\n",
    "\n",
    "es = pd.read_csv('employee_satisfaction.csv', usecols=col_list)\n",
    "display(es)"
   ]
  },
  {
   "cell_type": "markdown",
   "metadata": {},
   "source": [
    "### Cleaning & preprocessing the data\n",
    "\n",
    "Here, I first separate input and outputs. For my input *X* is select all the columns except the **satisfied** column. And the **satisfied** column becomes the output.\n",
    "\n",
    "Next, we split the data into training and test sets using the same method as linear regression example.\n",
    "\n",
    "Finally, we need to scale the training set. We need to do so because sometime an optimization algorithm does not converge, it usually happens because the problem is not well-conditioned. Therefore, in this example I am using *StandardScaler* function from sklearn to standardize this dataset."
   ]
  },
  {
   "cell_type": "code",
   "execution_count": 65,
   "metadata": {
    "scrolled": false
   },
   "outputs": [
    {
     "data": {
      "text/plain": [
       "0.503030303030303"
      ]
     },
     "execution_count": 65,
     "metadata": {},
     "output_type": "execute_result"
    }
   ],
   "source": [
    "X = es[es.columns[0:6]]\n",
    "y = es['satisfied']\n",
    "\n",
    "X_train, X_test, y_train, y_test = train_test_split(X, y, test_size=0.33, shuffle=True)\n",
    "\n",
    "scaler = preprocessing.StandardScaler().fit(X_train)\n",
    "X_scaled = scaler.transform(X_train)\n",
    "\n",
    "pipe = make_pipeline(preprocessing.StandardScaler(), linear_model.LogisticRegression())\n",
    "pipe.fit(X_train, y_train)\n",
    "pipe.score(X_test, y_test)"
   ]
  },
  {
   "cell_type": "markdown",
   "metadata": {},
   "source": [
    "### Training Classification model\n",
    "\n",
    "Now that we have prepared our data, we can run a classification algorithm on this dataset. For this example, I have chosen to use the Random Forest Classifier algorithm. \n",
    "\n",
    "Random forest classifier works by having number of individual decision trees that operate as an ensemble. Each individual tree in the random forest spits out a class prediction and the class with most votes becomes our model's prediction. I chose to using random forest classifier to train this model because random forest are less influenced by outliers than other algorithms. Furthermore, they dont make any assumptions about the underlying distribution of the data. "
   ]
  },
  {
   "cell_type": "code",
   "execution_count": 66,
   "metadata": {},
   "outputs": [
    {
     "data": {
      "text/plain": [
       "0.6"
      ]
     },
     "execution_count": 66,
     "metadata": {},
     "output_type": "execute_result"
    }
   ],
   "source": [
    "rfmodel = RandomForestClassifier().fit(X_scaled, y_train)\n",
    "rfmodel.score(X_test, y_test)"
   ]
  },
  {
   "cell_type": "markdown",
   "metadata": {},
   "source": [
    "### Classification conclusion\n",
    "\n",
    "Here, the score of our classification model is 0.6, meaning we were able to predict the correct class for the employee 60% of the time. This is not as accurate we want our model to be but it may give us a rough estimate. I believe the reason for the low accuracy is the scaling of the data. In our data set each coloumn has a different range, so I believe better scaling is required for future improvements. "
   ]
  },
  {
   "cell_type": "markdown",
   "metadata": {},
   "source": [
    "## Conclusion\n",
    "\n",
    "In conclusion, this notebook explored two machine learning examples. A linear regression and a classification problem. \n",
    "\n",
    "First, we trained a linear regression model to see if we can predict how long it will take to contain a wildfire given its size. The regression model was not as accurate as we would like it to be. So, for future version I would first clean the data a little bit more. In other words, I plan to see if I can find exact number of hours it took to contain the fire and that way we can build a more accurate model. Additionally, I also plan to train other models like has the time to contain fire decreased over the years, and given see if there is a relation between how quickly the fire was contained given its state of origin and size.\n",
    "\n",
    "Second, we trained a classification model to see if we can predict whether an employee was satisfied or not given information their age, awards, job level, rating, salary, etc. The accuracy of the model we trained was 60%, again not as accurated as we would want it to be. To increase the accuracy of the model in the next version, I am going to preprocess the data in a better way. There are many methods that sklearn provides to better prepare data for classifcation and that is an ideal step for the next version of this model."
   ]
  }
 ],
 "metadata": {
  "kernelspec": {
   "display_name": "Python 3",
   "language": "python",
   "name": "python3"
  },
  "language_info": {
   "codemirror_mode": {
    "name": "ipython",
    "version": 3
   },
   "file_extension": ".py",
   "mimetype": "text/x-python",
   "name": "python",
   "nbconvert_exporter": "python",
   "pygments_lexer": "ipython3",
   "version": "3.8.3"
  }
 },
 "nbformat": 4,
 "nbformat_minor": 4
}
